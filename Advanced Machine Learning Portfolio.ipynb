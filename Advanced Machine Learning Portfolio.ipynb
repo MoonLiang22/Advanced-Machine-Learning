{
 "cells": [
  {
   "cell_type": "markdown",
   "id": "24b00e57",
   "metadata": {},
   "source": [
    "# First: U.N. World Happiness Report"
   ]
  },
  {
   "cell_type": "markdown",
   "id": "1d74444b",
   "metadata": {},
   "source": [
    "For this report, I used U.N. World Happiness Competition data to explore the factors that might have effects on people's happiness levels. After looking for bivariate relationships between factors,\n",
    "\n",
    "I used different models that allow for automatic feature selection to examine features that predicts happiness categories,including Random forest classifier with GridResearchCV, Gradient boosting classifier, and Neural Network to find model that best predict world happiness. \n",
    "\n",
    "As a result, I found Gradient boosting classifier to be the best model out of all after compare with other classmate's model."
   ]
  },
  {
   "cell_type": "markdown",
   "id": "0cbd6005",
   "metadata": {},
   "source": [
    "Link to the notebook: https://github.com/MoonLiang22/Advanced-Machine-Learning/blob/main/U.N.%20World%20Happiness/U.N.%20World%20Happiness.ipynb"
   ]
  },
  {
   "cell_type": "markdown",
   "id": "d9573127",
   "metadata": {},
   "source": [
    "# Second: Covid positive rate prediction using X-ray image data"
   ]
  },
  {
   "cell_type": "markdown",
   "id": "5a3651af",
   "metadata": {},
   "source": [
    "For this report,I used X-ray image data from 'Can AI help in screening Viral and COVID-19 pneumonia?' from Cornell University. As COVID-19 started, it has been a serious issue that everyone has been pay attention on, the chest X-ray image is an efficient indicator that can determine the situation of this lung disease. The dataset has contain data of images that indicate 3 situations: COVID, NORMAL, and PNEUMONIA. By using models like transfer learning model and neural network, the predictive accuracy could be improved. Therefore, not only scientists or doctors can benefit from it for this research, the entire society can also benefit from it for knowing the disease better and having better treatment. \n",
    "\n",
    "I tried a transfer learning model VGG 16 with 10 epochs, verbose=1, 0.2 validation split, and a minimum learning rate of 0.001. \n",
    "Neural Networks with 4 layers of 64 neurons and 5 epochs.\n",
    "CNN models with different parameters (1st: 5 categories(filters=16,32,64,128,128; kernel_sizee=3,1) and 10 epochs; 2nd: 5 categories(10 conventional layers,filters: 16,32,64,128,256))and also with augmented data. \n",
    "\n",
    "After all, I found the best model is the first CNN model with 10 conventional layers (filters: 16,16,32,32,64,64,128,128,128,128) and gives me a predictive accuracy of 0.92."
   ]
  },
  {
   "cell_type": "markdown",
   "id": "b3815835",
   "metadata": {},
   "source": [
    "Link to the notebook: https://github.com/MoonLiang22/Advanced-Machine-Learning/blob/main/Covid_Hackathon_Model/COVID_Hackathon_Model_Xinyue_Liang.ipynb"
   ]
  },
  {
   "cell_type": "markdown",
   "id": "a2371df6",
   "metadata": {},
   "source": [
    "# Third: Text classification using Stanford SST Sentiment dataset"
   ]
  },
  {
   "cell_type": "markdown",
   "id": "941d6b9b",
   "metadata": {},
   "source": [
    "For this report, I used Stanford SST-2 benchmark dataset to classify text from movie reviews as positive,negative, or neutral. By using this set of movie review text data, we are able to apply sentiment analysis to improve the prediction of positive/negative/neutral movie reviews. Actors and directors or people who work in the entertainment industry could benefit from this as to see people's attitude and opinions towards a movie\n",
    "\n",
    "I tried a LSTM model with one embedding layer and 2 LSTM layers with 32 neurons for both. \n",
    "A 1D Conventional model with one embedding layer and 1 conv1d layer with 128 filters and a GlobalMaxPooling1D layer to reduce dimensionality.\n",
    "A trandfer learning model with glove embedding layers on the previous Conv1D model.\n",
    "\n",
    "Among these models, I found that the model with the highest accuracy is the one with two LSTM layers (32 neurons) and one embedding layer with 80.79% predictive accuracy."
   ]
  },
  {
   "cell_type": "markdown",
   "id": "a4e2ebf2",
   "metadata": {},
   "source": [
    "Link to the notebook:https://github.com/MoonLiang22/Advanced-Machine-Learning/tree/main/Text_Classification"
   ]
  }
 ],
 "metadata": {
  "kernelspec": {
   "display_name": "Python 3 (ipykernel)",
   "language": "python",
   "name": "python3"
  },
  "language_info": {
   "codemirror_mode": {
    "name": "ipython",
    "version": 3
   },
   "file_extension": ".py",
   "mimetype": "text/x-python",
   "name": "python",
   "nbconvert_exporter": "python",
   "pygments_lexer": "ipython3",
   "version": "3.10.9"
  }
 },
 "nbformat": 4,
 "nbformat_minor": 5
}
